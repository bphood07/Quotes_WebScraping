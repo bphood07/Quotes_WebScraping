{
 "cells": [
  {
   "cell_type": "code",
   "execution_count": 1,
   "id": "cb581881",
   "metadata": {},
   "outputs": [
    {
     "name": "stdout",
     "output_type": "stream",
     "text": [
      "Hello World\n"
     ]
    }
   ],
   "source": [
    "print(\"Hello World\")"
   ]
  },
  {
   "cell_type": "code",
   "execution_count": 2,
   "id": "69f01160",
   "metadata": {},
   "outputs": [],
   "source": [
    "#version "
   ]
  },
  {
   "cell_type": "code",
   "execution_count": 3,
   "id": "be0e3d88",
   "metadata": {},
   "outputs": [],
   "source": [
    "#import pip\n",
    "\n",
    "import pandas as pd #beautifulsoup"
   ]
  },
  {
   "cell_type": "code",
   "execution_count": 4,
   "id": "f70ff0e1",
   "metadata": {},
   "outputs": [],
   "source": [
    "#from bs4 import BeautifulSoup "
   ]
  },
  {
   "cell_type": "code",
   "execution_count": 5,
   "id": "2341e855",
   "metadata": {},
   "outputs": [],
   "source": [
    "import csv"
   ]
  },
  {
   "cell_type": "code",
   "execution_count": null,
   "id": "03c82887",
   "metadata": {},
   "outputs": [],
   "source": []
  },
  {
   "cell_type": "code",
   "execution_count": 6,
   "id": "f81961d8",
   "metadata": {},
   "outputs": [
    {
     "name": "stdout",
     "output_type": "stream",
     "text": [
      "Requirement already satisfied: selenium in c:\\users\\bhood\\anaconda3\\lib\\site-packages (4.11.2)\n",
      "Requirement already satisfied: certifi>=2021.10.8 in c:\\users\\bhood\\anaconda3\\lib\\site-packages (from selenium) (2021.10.8)\n",
      "Requirement already satisfied: trio-websocket~=0.9 in c:\\users\\bhood\\anaconda3\\lib\\site-packages (from selenium) (0.10.3)\n",
      "Requirement already satisfied: trio~=0.17 in c:\\users\\bhood\\anaconda3\\lib\\site-packages (from selenium) (0.22.2)\n",
      "Requirement already satisfied: urllib3[socks]<3,>=1.26 in c:\\users\\bhood\\anaconda3\\lib\\site-packages (from selenium) (1.26.9)\n",
      "Requirement already satisfied: sortedcontainers in c:\\users\\bhood\\anaconda3\\lib\\site-packages (from trio~=0.17->selenium) (2.4.0)\n",
      "Requirement already satisfied: outcome in c:\\users\\bhood\\anaconda3\\lib\\site-packages (from trio~=0.17->selenium) (1.2.0)\n",
      "Requirement already satisfied: exceptiongroup>=1.0.0rc9 in c:\\users\\bhood\\anaconda3\\lib\\site-packages (from trio~=0.17->selenium) (1.1.3)\n",
      "Requirement already satisfied: idna in c:\\users\\bhood\\anaconda3\\lib\\site-packages (from trio~=0.17->selenium) (3.3)\n",
      "Requirement already satisfied: cffi>=1.14 in c:\\users\\bhood\\anaconda3\\lib\\site-packages (from trio~=0.17->selenium) (1.15.0)\n",
      "Requirement already satisfied: sniffio in c:\\users\\bhood\\anaconda3\\lib\\site-packages (from trio~=0.17->selenium) (1.2.0)\n",
      "Requirement already satisfied: attrs>=20.1.0 in c:\\users\\bhood\\anaconda3\\lib\\site-packages (from trio~=0.17->selenium) (21.4.0)\n",
      "Requirement already satisfied: pycparser in c:\\users\\bhood\\anaconda3\\lib\\site-packages (from cffi>=1.14->trio~=0.17->selenium) (2.21)\n",
      "Requirement already satisfied: wsproto>=0.14 in c:\\users\\bhood\\anaconda3\\lib\\site-packages (from trio-websocket~=0.9->selenium) (1.2.0)\n",
      "Requirement already satisfied: PySocks!=1.5.7,<2.0,>=1.5.6 in c:\\users\\bhood\\anaconda3\\lib\\site-packages (from urllib3[socks]<3,>=1.26->selenium) (1.7.1)\n",
      "Requirement already satisfied: h11<1,>=0.9.0 in c:\\users\\bhood\\anaconda3\\lib\\site-packages (from wsproto>=0.14->trio-websocket~=0.9->selenium) (0.14.0)\n"
     ]
    }
   ],
   "source": [
    "!pip install selenium"
   ]
  },
  {
   "cell_type": "code",
   "execution_count": 7,
   "id": "be2c966a",
   "metadata": {},
   "outputs": [],
   "source": [
    "#!conda install selenium\n",
    "\n",
    "#pip3 install selenium #import requests"
   ]
  },
  {
   "cell_type": "code",
   "execution_count": 8,
   "id": "7dfcbbcc",
   "metadata": {},
   "outputs": [],
   "source": [
    "# note selenium is case sensative\n",
    "\n",
    "from selenium import webdriver\n",
    "from selenium.webdriver.chrome.service import Service\n",
    "from selenium.webdriver.common.by import By\n",
    "import getpass\n",
    "\n",
    "import time\n",
    "from selenium.common.exceptions import NoSuchElementException"
   ]
  },
  {
   "cell_type": "code",
   "execution_count": 9,
   "id": "57648912",
   "metadata": {},
   "outputs": [],
   "source": [
    "from time import sleep"
   ]
  },
  {
   "cell_type": "code",
   "execution_count": 10,
   "id": "886f92a4",
   "metadata": {},
   "outputs": [],
   "source": [
    "import json\n",
    "\n",
    "Credentials = {}\n",
    "\n",
    "try:\n",
    "    with open (r'C:\\Users\\bhood\\Downloads\\vertopal.com_credentials.json') as file:\n",
    "        Credentials = json.load(file)\n",
    "except FileNotFoundError:\n",
    "    print(\"Error: credentials.json file not found.\")\n",
    "    \n",
    "\n",
    "my_pass = Credentials[\"creds \"]    \n",
    "#print(Credentials)"
   ]
  },
  {
   "cell_type": "code",
   "execution_count": 11,
   "id": "a40cf357",
   "metadata": {},
   "outputs": [],
   "source": [
    "browser_driver = webdriver.Chrome()\n",
    "browser_driver.get(\"https://quotes.toscrape.com/\")\n",
    "browser_driver.find_element(By.LINK_TEXT, \"Login\").click()\n",
    "sleep(3)# wait x seconds \n",
    "username = browser_driver.find_element(By.ID, \"username\")\n",
    "password = browser_driver.find_element(By.ID, \"password\")\n",
    "\n",
    "username.send_keys(\"admin\")\n",
    "#password.send_keys(\"1234\")\n",
    "#my_pass = getpass.getpass() #this will prompt me for my password information more secure\n",
    "password.send_keys(my_pass)\n",
    "browser_driver.find_element(By.CSS_SELECTOR, \"input.btn-primary\").click()"
   ]
  },
  {
   "cell_type": "code",
   "execution_count": 12,
   "id": "01b91663",
   "metadata": {},
   "outputs": [],
   "source": [
    "#page_to_scrape = requests.get(\"https://quotes.toscrape.com/\")\n",
    "\n",
    "#soup = BeautifulSoup(page_to_scrape.text, \"html.parser\")\n",
    "\n",
    "\n",
    "##https://www.youtube.com/watch?v=tRNwTXeJ75U"
   ]
  },
  {
   "cell_type": "code",
   "execution_count": 13,
   "id": "211b6169",
   "metadata": {},
   "outputs": [],
   "source": [
    "# finding variable and saving as a list\n",
    "quotes = browser_driver.find_elements(By.CLASS_NAME, \"text\")"
   ]
  },
  {
   "cell_type": "code",
   "execution_count": 14,
   "id": "e09c5b21",
   "metadata": {},
   "outputs": [],
   "source": [
    "# finding variable and saving as a list\n",
    "authors =  browser_driver.find_elements(By.CLASS_NAME,\"author\")"
   ]
  },
  {
   "cell_type": "code",
   "execution_count": 15,
   "id": "37a4db36",
   "metadata": {},
   "outputs": [],
   "source": [
    "# for loop - With the for loop we can execute a set of statements, once for each item in a list, tuple, set etc\n",
    "#for quote in quotes:  print(quote.text)"
   ]
  },
  {
   "cell_type": "code",
   "execution_count": 16,
   "id": "71b67da4",
   "metadata": {},
   "outputs": [],
   "source": [
    "#for author in authors:\n",
    "   # print(author.text)"
   ]
  },
  {
   "cell_type": "code",
   "execution_count": 17,
   "id": "689bfb6c",
   "metadata": {},
   "outputs": [
    {
     "name": "stdout",
     "output_type": "stream",
     "text": [
      "“The world as we have created it is a process of our thinking. It cannot be changed without changing our thinking.” - Albert Einstein\n",
      "“It is our choices, Harry, that show what we truly are, far more than our abilities.” - J.K. Rowling\n",
      "“There are only two ways to live your life. One is as though nothing is a miracle. The other is as though everything is a miracle.” - Albert Einstein\n",
      "“The person, be it gentleman or lady, who has not pleasure in a good novel, must be intolerably stupid.” - Jane Austen\n",
      "“Imperfection is beauty, madness is genius and it's better to be absolutely ridiculous than absolutely boring.” - Marilyn Monroe\n",
      "“Try not to become a man of success. Rather become a man of value.” - Albert Einstein\n",
      "“It is better to be hated for what you are than to be loved for what you are not.” - André Gide\n",
      "“I have not failed. I've just found 10,000 ways that won't work.” - Thomas A. Edison\n",
      "“A woman is like a tea bag; you never know how strong it is until it's in hot water.” - Eleanor Roosevelt\n",
      "“A day without sunshine is like, you know, night.” - Steve Martin\n",
      "“This life is what you make it. No matter what, you're going to mess up sometimes, it's a universal truth. But the good part is you get to decide how you're going to mess it up. Girls will be your friends - they'll act like it anyway. But just remember, some come, some go. The ones that stay with you through everything - they're your true best friends. Don't let go of them. Also remember, sisters make the best friends in the world. As for lovers, well, they'll come and go too. And baby, I hate to say it, most of them - actually pretty much all of them are going to break your heart, but you can't give up because if you give up, you'll never find your soulmate. You'll never find that half who makes you whole and that goes for everything. Just because you fail once, doesn't mean you're gonna fail at everything. Keep trying, hold on, and always, always, always believe in yourself, because if you don't, then who will, sweetie? So keep your head high, keep your chin up, and most importantly, keep smiling, because life's a beautiful thing and there's so much to smile about.” - Marilyn Monroe\n",
      "“It takes a great deal of bravery to stand up to our enemies, but just as much to stand up to our friends.” - J.K. Rowling\n",
      "“If you can't explain it to a six year old, you don't understand it yourself.” - Albert Einstein\n",
      "“You may not be her first, her last, or her only. She loved before she may love again. But if she loves you now, what else matters? She's not perfect—you aren't either, and the two of you may never be perfect together but if she can make you laugh, cause you to think twice, and admit to being human and making mistakes, hold onto her and give her the most you can. She may not be thinking about you every second of the day, but she will give you a part of her that she knows you can break—her heart. So don't hurt her, don't change her, don't analyze and don't expect more than she can give. Smile when she makes you happy, let her know when she makes you mad, and miss her when she's not there.” - Bob Marley\n",
      "“I like nonsense, it wakes up the brain cells. Fantasy is a necessary ingredient in living.” - Dr. Seuss\n",
      "“I may not have gone where I intended to go, but I think I have ended up where I needed to be.” - Douglas Adams\n",
      "“The opposite of love is not hate, it's indifference. The opposite of art is not ugliness, it's indifference. The opposite of faith is not heresy, it's indifference. And the opposite of life is not death, it's indifference.” - Elie Wiesel\n",
      "“It is not a lack of love, but a lack of friendship that makes unhappy marriages.” - Friedrich Nietzsche\n",
      "“Good friends, good books, and a sleepy conscience: this is the ideal life.” - Mark Twain\n",
      "“Life is what happens to us while we are making other plans.” - Allen Saunders\n",
      "“I love you without knowing how, or when, or from where. I love you simply, without problems or pride: I love you in this way because I do not know any other way of loving but this, in which there is no I or you, so intimate that your hand upon my chest is my hand, so intimate that when I fall asleep your eyes close.” - Pablo Neruda\n",
      "“For every minute you are angry you lose sixty seconds of happiness.” - Ralph Waldo Emerson\n",
      "“If you judge people, you have no time to love them.” - Mother Teresa\n",
      "“Anyone who thinks sitting in church can make you a Christian must also think that sitting in a garage can make you a car.” - Garrison Keillor\n",
      "“Beauty is in the eye of the beholder and it may be necessary from time to time to give a stupid or misinformed beholder a black eye.” - Jim Henson\n",
      "“Today you are You, that is truer than true. There is no one alive who is Youer than You.” - Dr. Seuss\n",
      "“If you want your children to be intelligent, read them fairy tales. If you want them to be more intelligent, read them more fairy tales.” - Albert Einstein\n",
      "“It is impossible to live without failing at something, unless you live so cautiously that you might as well not have lived at all - in which case, you fail by default.” - J.K. Rowling\n",
      "“Logic will get you from A to Z; imagination will get you everywhere.” - Albert Einstein\n",
      "“One good thing about music, when it hits you, you feel no pain.” - Bob Marley\n",
      "“The more that you read, the more things you will know. The more that you learn, the more places you'll go.” - Dr. Seuss\n",
      "“Of course it is happening inside your head, Harry, but why on earth should that mean that it is not real?” - J.K. Rowling\n",
      "“The truth is, everyone is going to hurt you. You just got to find the ones worth suffering for.” - Bob Marley\n",
      "“Not all of us can do great things. But we can do small things with great love.” - Mother Teresa\n",
      "“To the well-organized mind, death is but the next great adventure.” - J.K. Rowling\n",
      "“All you need is love. But a little chocolate now and then doesn't hurt.” - Charles M. Schulz\n",
      "“We read to know we're not alone.” - William Nicholson\n",
      "“Any fool can know. The point is to understand.” - Albert Einstein\n",
      "“I have always imagined that Paradise will be a kind of library.” - Jorge Luis Borges\n",
      "“It is never too late to be what you might have been.” - George Eliot\n",
      "“A reader lives a thousand lives before he dies, said Jojen. The man who never reads lives only one.” - George R.R. Martin\n",
      "“You can never get a cup of tea large enough or a book long enough to suit me.” - C.S. Lewis\n",
      "“You believe lies so you eventually learn to trust no one but yourself.” - Marilyn Monroe\n",
      "“If you can make a woman laugh, you can make her do anything.” - Marilyn Monroe\n",
      "“Life is like riding a bicycle. To keep your balance, you must keep moving.” - Albert Einstein\n",
      "“The real lover is the man who can thrill you by kissing your forehead or smiling into your eyes or just staring into space.” - Marilyn Monroe\n",
      "“A wise girl kisses but doesn't love, listens but doesn't believe, and leaves before she is left.” - Marilyn Monroe\n",
      "“Only in the darkness can you see the stars.” - Martin Luther King Jr.\n",
      "“It matters not what someone is born, but what they grow to be.” - J.K. Rowling\n",
      "“Love does not begin and end the way we seem to think it does. Love is a battle, love is a war; love is a growing up.” - James Baldwin\n",
      "“There is nothing I would not do for those who are really my friends. I have no notion of loving people by halves, it is not my nature.” - Jane Austen\n",
      "“Do one thing every day that scares you.” - Eleanor Roosevelt\n",
      "“I am good, but not an angel. I do sin, but I am not the devil. I am just a small girl in a big world trying to find someone to love.” - Marilyn Monroe\n",
      "“If I were not a physicist, I would probably be a musician. I often think in music. I live my daydreams in music. I see my life in terms of music.” - Albert Einstein\n",
      "“If you only read the books that everyone else is reading, you can only think what everyone else is thinking.” - Haruki Murakami\n",
      "“The difference between genius and stupidity is: genius has its limits.” - Alexandre Dumas fils\n",
      "“He's like a drug for you, Bella.” - Stephenie Meyer\n",
      "“There is no friend as loyal as a book.” - Ernest Hemingway\n",
      "“When one door of happiness closes, another opens; but often we look so long at the closed door that we do not see the one which has been opened for us.” - Helen Keller\n",
      "“Life isn't about finding yourself. Life is about creating yourself.” - George Bernard Shaw\n"
     ]
    },
    {
     "name": "stdout",
     "output_type": "stream",
     "text": [
      "“That's the problem with drinking, I thought, as I poured myself a drink. If something bad happens you drink in an attempt to forget; if something good happens you drink in order to celebrate; and if nothing happens you drink to make something happen.” - Charles Bukowski\n",
      "“You don’t forget the face of the person who was your last hope.” - Suzanne Collins\n",
      "“Remember, we're madly in love, so it's all right to kiss me anytime you feel like it.” - Suzanne Collins\n",
      "“To love at all is to be vulnerable. Love anything and your heart will be wrung and possibly broken. If you want to make sure of keeping it intact you must give it to no one, not even an animal. Wrap it carefully round with hobbies and little luxuries; avoid all entanglements. Lock it up safe in the casket or coffin of your selfishness. But in that casket, safe, dark, motionless, airless, it will change. It will not be broken; it will become unbreakable, impenetrable, irredeemable. To love is to be vulnerable.” - C.S. Lewis\n",
      "“Not all those who wander are lost.” - J.R.R. Tolkien\n",
      "“Do not pity the dead, Harry. Pity the living, and, above all those who live without love.” - J.K. Rowling\n",
      "“There is nothing to writing. All you do is sit down at a typewriter and bleed.” - Ernest Hemingway\n",
      "“Finish each day and be done with it. You have done what you could. Some blunders and absurdities no doubt crept in; forget them as soon as you can. Tomorrow is a new day. You shall begin it serenely and with too high a spirit to be encumbered with your old nonsense.” - Ralph Waldo Emerson\n",
      "“I have never let my schooling interfere with my education.” - Mark Twain\n",
      "“I have heard there are troubles of more than one kind. Some come from ahead and some come from behind. But I've bought a big bat. I'm all ready you see. Now my troubles are going to have troubles with me!” - Dr. Seuss\n",
      "“If I had a flower for every time I thought of you...I could walk through my garden forever.” - Alfred Tennyson\n",
      "“Some people never go crazy. What truly horrible lives they must lead.” - Charles Bukowski\n",
      "“The trouble with having an open mind, of course, is that people will insist on coming along and trying to put things in it.” - Terry Pratchett\n",
      "“Think left and think right and think low and think high. Oh, the thinks you can think up if only you try!” - Dr. Seuss\n",
      "“What really knocks me out is a book that, when you're all done reading it, you wish the author that wrote it was a terrific friend of yours and you could call him up on the phone whenever you felt like it. That doesn't happen much, though.” - J.D. Salinger\n",
      "“The reason I talk to myself is because I’m the only one whose answers I accept.” - George Carlin\n",
      "“You may say I'm a dreamer, but I'm not the only one. I hope someday you'll join us. And the world will live as one.” - John Lennon\n",
      "“I am free of all prejudice. I hate everyone equally. ” - W.C. Fields\n",
      "“The question isn't who is going to let me; it's who is going to stop me.” - Ayn Rand\n",
      "“′Classic′ - a book which people praise and don't read.” - Mark Twain\n"
     ]
    },
    {
     "ename": "UnicodeEncodeError",
     "evalue": "'charmap' codec can't encode character '\\u2032' in position 1: character maps to <undefined>",
     "output_type": "error",
     "traceback": [
      "\u001b[1;31m---------------------------------------------------------------------------\u001b[0m",
      "\u001b[1;31mUnicodeEncodeError\u001b[0m                        Traceback (most recent call last)",
      "Input \u001b[1;32mIn [17]\u001b[0m, in \u001b[0;36m<cell line: 9>\u001b[1;34m()\u001b[0m\n\u001b[0;32m     11\u001b[0m \u001b[38;5;28;01mfor\u001b[39;00m quote, author \u001b[38;5;129;01min\u001b[39;00m \u001b[38;5;28mzip\u001b[39m(quotes, authors):\n\u001b[0;32m     12\u001b[0m     \u001b[38;5;28mprint\u001b[39m(quote\u001b[38;5;241m.\u001b[39mtext \u001b[38;5;241m+\u001b[39m \u001b[38;5;124m\"\u001b[39m\u001b[38;5;124m - \u001b[39m\u001b[38;5;124m\"\u001b[39m \u001b[38;5;241m+\u001b[39m author\u001b[38;5;241m.\u001b[39mtext)\n\u001b[1;32m---> 13\u001b[0m     \u001b[43mwriter\u001b[49m\u001b[38;5;241;43m.\u001b[39;49m\u001b[43mwriterow\u001b[49m\u001b[43m(\u001b[49m\u001b[43m[\u001b[49m\u001b[43mquote\u001b[49m\u001b[38;5;241;43m.\u001b[39;49m\u001b[43mtext\u001b[49m\u001b[43m,\u001b[49m\u001b[43m \u001b[49m\u001b[43mauthor\u001b[49m\u001b[38;5;241;43m.\u001b[39;49m\u001b[43mtext\u001b[49m\u001b[43m]\u001b[49m\u001b[43m)\u001b[49m \u001b[38;5;66;03m# must be part of this block for some reason\u001b[39;00m\n\u001b[0;32m     14\u001b[0m \u001b[38;5;28;01mtry\u001b[39;00m:\n\u001b[0;32m     15\u001b[0m     browser_driver\u001b[38;5;241m.\u001b[39mfind_element(By\u001b[38;5;241m.\u001b[39mPARTIAL_LINK_TEXT, \u001b[38;5;124m\"\u001b[39m\u001b[38;5;124mNext\u001b[39m\u001b[38;5;124m\"\u001b[39m)\u001b[38;5;241m.\u001b[39mclick()\n",
      "File \u001b[1;32m~\\Anaconda3\\lib\\encodings\\cp1252.py:19\u001b[0m, in \u001b[0;36mIncrementalEncoder.encode\u001b[1;34m(self, input, final)\u001b[0m\n\u001b[0;32m     18\u001b[0m \u001b[38;5;28;01mdef\u001b[39;00m \u001b[38;5;21mencode\u001b[39m(\u001b[38;5;28mself\u001b[39m, \u001b[38;5;28minput\u001b[39m, final\u001b[38;5;241m=\u001b[39m\u001b[38;5;28;01mFalse\u001b[39;00m):\n\u001b[1;32m---> 19\u001b[0m     \u001b[38;5;28;01mreturn\u001b[39;00m \u001b[43mcodecs\u001b[49m\u001b[38;5;241;43m.\u001b[39;49m\u001b[43mcharmap_encode\u001b[49m\u001b[43m(\u001b[49m\u001b[38;5;28;43minput\u001b[39;49m\u001b[43m,\u001b[49m\u001b[38;5;28;43mself\u001b[39;49m\u001b[38;5;241;43m.\u001b[39;49m\u001b[43merrors\u001b[49m\u001b[43m,\u001b[49m\u001b[43mencoding_table\u001b[49m\u001b[43m)\u001b[49m[\u001b[38;5;241m0\u001b[39m]\n",
      "\u001b[1;31mUnicodeEncodeError\u001b[0m: 'charmap' codec can't encode character '\\u2032' in position 1: character maps to <undefined>"
     ]
    }
   ],
   "source": [
    "file = open(\"scraped_quotes8.csv\", \"w\" )\n",
    "\n",
    "writer = csv.writer(file)\n",
    "\n",
    "writer.writerow([\"QUOTES\", \"AUTHORS\"])\n",
    "\n",
    "# combined loops\n",
    "while True:\n",
    "    authors =  browser_driver.find_elements(By.CLASS_NAME,\"author\")\n",
    "    quotes = browser_driver.find_elements(By.CLASS_NAME, \"text\")\n",
    "    for quote, author in zip(quotes, authors):\n",
    "        print(quote.text + \" - \" + author.text)\n",
    "        writer.writerow([quote.text, author.text]) # must be part of this block for some reason\n",
    "    try:\n",
    "        browser_driver.find_element(By.PARTIAL_LINK_TEXT, \"Next\").click()\n",
    "    except NoSuchElementException:\n",
    "        break\n",
    "file.close()"
   ]
  },
  {
   "cell_type": "code",
   "execution_count": null,
   "id": "f08a5c04",
   "metadata": {},
   "outputs": [],
   "source": []
  },
  {
   "cell_type": "code",
   "execution_count": null,
   "id": "e5129c2f",
   "metadata": {},
   "outputs": [],
   "source": []
  },
  {
   "cell_type": "code",
   "execution_count": null,
   "id": "76768c8d",
   "metadata": {},
   "outputs": [],
   "source": []
  },
  {
   "cell_type": "code",
   "execution_count": null,
   "id": "3bc9ffab",
   "metadata": {},
   "outputs": [],
   "source": []
  },
  {
   "cell_type": "code",
   "execution_count": null,
   "id": "45370d2c",
   "metadata": {},
   "outputs": [],
   "source": []
  }
 ],
 "metadata": {
  "kernelspec": {
   "display_name": "Python 3 (ipykernel)",
   "language": "python",
   "name": "python3"
  },
  "language_info": {
   "codemirror_mode": {
    "name": "ipython",
    "version": 3
   },
   "file_extension": ".py",
   "mimetype": "text/x-python",
   "name": "python",
   "nbconvert_exporter": "python",
   "pygments_lexer": "ipython3",
   "version": "3.9.12"
  }
 },
 "nbformat": 4,
 "nbformat_minor": 5
}
